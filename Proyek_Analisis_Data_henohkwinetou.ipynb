{
 "cells": [
  {
   "cell_type": "markdown",
   "metadata": {
    "id": "H9wADwK78DCz"
   },
   "source": [
    "# Proyek Analisis Data: Bike Sharing Dataset (henokhwinetou)\n",
    "- **Nama:** HENOKH WINETOU CANDRA BAHARI\n",
    "- **Email:** henokhwinetou@gmail.com\n",
    "- **ID Dicoding:** henokhwinetou"
   ]
  },
  {
   "cell_type": "markdown",
   "metadata": {
    "id": "eE0raob58DC0"
   },
   "source": [
    "## Menentukan Pertanyaan Bisnis"
   ]
  },
  {
   "cell_type": "markdown",
   "metadata": {
    "id": "GmQeQ5YF8DC0"
   },
   "source": [
    "- Apakah perbedaan musim mempunyai pengaruh terhadap jumlah penyewaan sepeda?\n",
    "- Bagaimanakah pengaruh dari Cuaca terhadap tren jumlah penyewaan sepeda?"
   ]
  },
  {
   "cell_type": "markdown",
   "metadata": {
    "id": "H-z4QGlO8DC1"
   },
   "source": [
    "## Import Semua Packages/Library yang Digunakan"
   ]
  },
  {
   "cell_type": "code",
   "execution_count": 5,
   "metadata": {
    "id": "FVYwaObI8DC1"
   },
   "outputs": [],
   "source": [
    "import pandas as pd \n",
    "import matplotlib.pyplot as plt\n",
    "import numpy as np\n",
    "import seaborn as sns\n",
    "from scipy import stats"
   ]
  },
  {
   "cell_type": "code",
   "execution_count": 75,
   "metadata": {},
   "outputs": [],
   "source": [
    "with open('script.py', 'w') as f:\n",
    "    f.write('''\n",
    "import pandas as pd \n",
    "import matplotlib.pyplot as plt\n",
    "import numpy as np\n",
    "import seaborn as sns\n",
    "from scipy import stats\n",
    "''')"
   ]
  },
  {
   "cell_type": "code",
   "execution_count": 77,
   "metadata": {},
   "outputs": [
    {
     "name": "stderr",
     "output_type": "stream",
     "text": [
      "INFO: Not scanning for jupyter notebooks.\n",
      "WARNING: Import named \"numpy\" not found locally. Trying to resolve it at the PyPI server.\n",
      "WARNING: Import named \"numpy\" was resolved to \"numpy:2.1.2\" package (https://pypi.org/project/numpy/).\n",
      "Please, verify manually the final list of requirements.txt to avoid possible dependency confusions.\n",
      "WARNING: Import named \"pandas\" not found locally. Trying to resolve it at the PyPI server.\n",
      "WARNING: Import named \"pandas\" was resolved to \"pandas:2.2.3\" package (https://pypi.org/project/pandas/).\n",
      "Please, verify manually the final list of requirements.txt to avoid possible dependency confusions.\n",
      "WARNING: Import named \"scipy\" not found locally. Trying to resolve it at the PyPI server.\n",
      "WARNING: Import named \"scipy\" was resolved to \"scipy:1.14.1\" package (https://pypi.org/project/scipy/).\n",
      "Please, verify manually the final list of requirements.txt to avoid possible dependency confusions.\n",
      "WARNING: Import named \"seaborn\" not found locally. Trying to resolve it at the PyPI server.\n",
      "WARNING: Import named \"seaborn\" was resolved to \"seaborn:0.13.2\" package (https://pypi.org/project/seaborn/).\n",
      "Please, verify manually the final list of requirements.txt to avoid possible dependency confusions.\n",
      "INFO: Successfully saved requirements file in .\\requirements.txt\n"
     ]
    }
   ],
   "source": [
    "!pipreqs ."
   ]
  },
  {
   "cell_type": "markdown",
   "metadata": {
    "id": "h_Sh51Xy8DC1"
   },
   "source": [
    "## Data Wrangling"
   ]
  },
  {
   "cell_type": "markdown",
   "metadata": {
    "id": "sXU2GBYu8DC1"
   },
   "source": [
    "### Gathering Data\n",
    "\n",
    "- Gathering data menggunakan dataset hour.csv, dikarenakan data berisikan sangat lengkap dan kompleks."
   ]
  },
  {
   "cell_type": "code",
   "execution_count": 8,
   "metadata": {
    "id": "zjCBk1BI8DC1"
   },
   "outputs": [
    {
     "data": {
      "text/html": [
       "<div>\n",
       "<style scoped>\n",
       "    .dataframe tbody tr th:only-of-type {\n",
       "        vertical-align: middle;\n",
       "    }\n",
       "\n",
       "    .dataframe tbody tr th {\n",
       "        vertical-align: top;\n",
       "    }\n",
       "\n",
       "    .dataframe thead th {\n",
       "        text-align: right;\n",
       "    }\n",
       "</style>\n",
       "<table border=\"1\" class=\"dataframe\">\n",
       "  <thead>\n",
       "    <tr style=\"text-align: right;\">\n",
       "      <th></th>\n",
       "      <th>instant</th>\n",
       "      <th>dteday</th>\n",
       "      <th>season</th>\n",
       "      <th>yr</th>\n",
       "      <th>mnth</th>\n",
       "      <th>hr</th>\n",
       "      <th>holiday</th>\n",
       "      <th>weekday</th>\n",
       "      <th>workingday</th>\n",
       "      <th>weathersit</th>\n",
       "      <th>temp</th>\n",
       "      <th>atemp</th>\n",
       "      <th>hum</th>\n",
       "      <th>windspeed</th>\n",
       "      <th>casual</th>\n",
       "      <th>registered</th>\n",
       "      <th>cnt</th>\n",
       "    </tr>\n",
       "  </thead>\n",
       "  <tbody>\n",
       "    <tr>\n",
       "      <th>0</th>\n",
       "      <td>1</td>\n",
       "      <td>2011-01-01</td>\n",
       "      <td>1</td>\n",
       "      <td>0</td>\n",
       "      <td>1</td>\n",
       "      <td>0</td>\n",
       "      <td>0</td>\n",
       "      <td>6</td>\n",
       "      <td>0</td>\n",
       "      <td>1</td>\n",
       "      <td>0.24</td>\n",
       "      <td>0.2879</td>\n",
       "      <td>0.81</td>\n",
       "      <td>0.0</td>\n",
       "      <td>3</td>\n",
       "      <td>13</td>\n",
       "      <td>16</td>\n",
       "    </tr>\n",
       "    <tr>\n",
       "      <th>1</th>\n",
       "      <td>2</td>\n",
       "      <td>2011-01-01</td>\n",
       "      <td>1</td>\n",
       "      <td>0</td>\n",
       "      <td>1</td>\n",
       "      <td>1</td>\n",
       "      <td>0</td>\n",
       "      <td>6</td>\n",
       "      <td>0</td>\n",
       "      <td>1</td>\n",
       "      <td>0.22</td>\n",
       "      <td>0.2727</td>\n",
       "      <td>0.80</td>\n",
       "      <td>0.0</td>\n",
       "      <td>8</td>\n",
       "      <td>32</td>\n",
       "      <td>40</td>\n",
       "    </tr>\n",
       "    <tr>\n",
       "      <th>2</th>\n",
       "      <td>3</td>\n",
       "      <td>2011-01-01</td>\n",
       "      <td>1</td>\n",
       "      <td>0</td>\n",
       "      <td>1</td>\n",
       "      <td>2</td>\n",
       "      <td>0</td>\n",
       "      <td>6</td>\n",
       "      <td>0</td>\n",
       "      <td>1</td>\n",
       "      <td>0.22</td>\n",
       "      <td>0.2727</td>\n",
       "      <td>0.80</td>\n",
       "      <td>0.0</td>\n",
       "      <td>5</td>\n",
       "      <td>27</td>\n",
       "      <td>32</td>\n",
       "    </tr>\n",
       "    <tr>\n",
       "      <th>3</th>\n",
       "      <td>4</td>\n",
       "      <td>2011-01-01</td>\n",
       "      <td>1</td>\n",
       "      <td>0</td>\n",
       "      <td>1</td>\n",
       "      <td>3</td>\n",
       "      <td>0</td>\n",
       "      <td>6</td>\n",
       "      <td>0</td>\n",
       "      <td>1</td>\n",
       "      <td>0.24</td>\n",
       "      <td>0.2879</td>\n",
       "      <td>0.75</td>\n",
       "      <td>0.0</td>\n",
       "      <td>3</td>\n",
       "      <td>10</td>\n",
       "      <td>13</td>\n",
       "    </tr>\n",
       "    <tr>\n",
       "      <th>4</th>\n",
       "      <td>5</td>\n",
       "      <td>2011-01-01</td>\n",
       "      <td>1</td>\n",
       "      <td>0</td>\n",
       "      <td>1</td>\n",
       "      <td>4</td>\n",
       "      <td>0</td>\n",
       "      <td>6</td>\n",
       "      <td>0</td>\n",
       "      <td>1</td>\n",
       "      <td>0.24</td>\n",
       "      <td>0.2879</td>\n",
       "      <td>0.75</td>\n",
       "      <td>0.0</td>\n",
       "      <td>0</td>\n",
       "      <td>1</td>\n",
       "      <td>1</td>\n",
       "    </tr>\n",
       "  </tbody>\n",
       "</table>\n",
       "</div>"
      ],
      "text/plain": [
       "   instant      dteday  season  yr  mnth  hr  holiday  weekday  workingday  \\\n",
       "0        1  2011-01-01       1   0     1   0        0        6           0   \n",
       "1        2  2011-01-01       1   0     1   1        0        6           0   \n",
       "2        3  2011-01-01       1   0     1   2        0        6           0   \n",
       "3        4  2011-01-01       1   0     1   3        0        6           0   \n",
       "4        5  2011-01-01       1   0     1   4        0        6           0   \n",
       "\n",
       "   weathersit  temp   atemp   hum  windspeed  casual  registered  cnt  \n",
       "0           1  0.24  0.2879  0.81        0.0       3          13   16  \n",
       "1           1  0.22  0.2727  0.80        0.0       8          32   40  \n",
       "2           1  0.22  0.2727  0.80        0.0       5          27   32  \n",
       "3           1  0.24  0.2879  0.75        0.0       3          10   13  \n",
       "4           1  0.24  0.2879  0.75        0.0       0           1    1  "
      ]
     },
     "execution_count": 8,
     "metadata": {},
     "output_type": "execute_result"
    }
   ],
   "source": [
    "# Input dataset hour.csv\n",
    "bike_df = pd.read_csv(\"hour.csv\", delimiter=\",\")\n",
    "bike_df.head()"
   ]
  },
  {
   "cell_type": "markdown",
   "metadata": {},
   "source": [
    "**INSIGHT**\n",
    "\n",
    "Dataset memberikan informasi mengenai rental penyewaan sepeda baik yang sudah terdaftar (registered) maupun tidak terdaftar (casual) berdasarkan jam, hari sibuk, hari libur dan bulan serta dipengaruhi berbagai faktor seperti cuaca, suhu, kelembapan dan kecepatan angin.\n",
    "- **instant**: nomor urut data\n",
    "- **dteday**: tanggal data penyewaan\n",
    "- **season**: musim (1: musim semi, 2: musim panas, 3: musim gugur, 4: musim dingin) \n",
    "- **yr**: tahun, 0 berarti 2011, 1 berarti 2012\n",
    "- **mnth**: bulan dari 1 hingga 12\n",
    "- **hr**: jam, dimulai dari 0 hingga 23\n",
    "- **holiday**: 1 untuk hari libur, 0 untuk bukan libur\n",
    "- **weekday**: hari dalam seminggu, dimulai dari 0 untuk minggu, dst\n",
    "- **workingday**: 1 untuk hari kerja, 0 untuk hari tidak bekerja\n",
    "- **weathersit**: Cuaca (1: Cerah, 2: Berkabut 3: Salju ringan/Hujan ringan, 4: Hujan lebat)\n",
    "- **temp**: Suhu dalam Celcius\n",
    "- **atemp**: Suhu 'terasa' dalam Celcius\n",
    "- **hum**: Kelembapan \n",
    "- **windspeed**: Kecepatan angin\n",
    "- **casual**: jumlah pengguna kasual tanpa pendaftaran\n",
    "- **registered**: jumlah pengguna terdaftar\n",
    "- **cnt**: jumlah total sepeda yang disewa, termasuk pengguna kasual dan terdaftar\n",
    "\n",
    "Keterangan dalam kurung diambil dari readme.txt yang bersumber di dalam folder Bike Sharing Dataset"
   ]
  },
  {
   "cell_type": "markdown",
   "metadata": {
    "id": "FHSiqaZp8DC1"
   },
   "source": [
    "### Assessing Data\n",
    "\n",
    "melakukan asessing pada data bike_df terkait adanya missing value, inaccurate value, data duplikat serta kesesuaian tipe data."
   ]
  },
  {
   "cell_type": "code",
   "execution_count": 11,
   "metadata": {
    "id": "ax-3tEjc9Cj1"
   },
   "outputs": [
    {
     "name": "stdout",
     "output_type": "stream",
     "text": [
      "<class 'pandas.core.frame.DataFrame'>\n",
      "RangeIndex: 17379 entries, 0 to 17378\n",
      "Data columns (total 17 columns):\n",
      " #   Column      Non-Null Count  Dtype  \n",
      "---  ------      --------------  -----  \n",
      " 0   instant     17379 non-null  int64  \n",
      " 1   dteday      17379 non-null  object \n",
      " 2   season      17379 non-null  int64  \n",
      " 3   yr          17379 non-null  int64  \n",
      " 4   mnth        17379 non-null  int64  \n",
      " 5   hr          17379 non-null  int64  \n",
      " 6   holiday     17379 non-null  int64  \n",
      " 7   weekday     17379 non-null  int64  \n",
      " 8   workingday  17379 non-null  int64  \n",
      " 9   weathersit  17379 non-null  int64  \n",
      " 10  temp        17379 non-null  float64\n",
      " 11  atemp       17379 non-null  float64\n",
      " 12  hum         17379 non-null  float64\n",
      " 13  windspeed   17379 non-null  float64\n",
      " 14  casual      17379 non-null  int64  \n",
      " 15  registered  17379 non-null  int64  \n",
      " 16  cnt         17379 non-null  int64  \n",
      "dtypes: float64(4), int64(12), object(1)\n",
      "memory usage: 2.3+ MB\n"
     ]
    }
   ],
   "source": [
    "# Mengidentifikasi kesesuaian tipe data \n",
    "\n",
    "bike_df.info()"
   ]
  },
  {
   "cell_type": "markdown",
   "metadata": {
    "id": "7dtxhAPrkhPL"
   },
   "source": [
    "**Insight:**\n",
    "- Dataset mempunyai 17,379 baris dan 17 kolom\n",
    "- Dataset berisikan tipe data yang relevan sesuai dengan kategorinya, kecuali pada salah satu kolom data ***dteday*** yang menggunakan tipe data *object*, seharusnya diganti menjadi *datetime* karena digunakan untuk tipe data string.\n",
    "- Dataset tidak mempunyai data yang hilang. Adapun muatan memori sebesar 2.3+ MB"
   ]
  },
  {
   "cell_type": "code",
   "execution_count": 13,
   "metadata": {},
   "outputs": [
    {
     "data": {
      "text/plain": [
       "instant       0\n",
       "dteday        0\n",
       "season        0\n",
       "yr            0\n",
       "mnth          0\n",
       "hr            0\n",
       "holiday       0\n",
       "weekday       0\n",
       "workingday    0\n",
       "weathersit    0\n",
       "temp          0\n",
       "atemp         0\n",
       "hum           0\n",
       "windspeed     0\n",
       "casual        0\n",
       "registered    0\n",
       "cnt           0\n",
       "dtype: int64"
      ]
     },
     "execution_count": 13,
     "metadata": {},
     "output_type": "execute_result"
    }
   ],
   "source": [
    "# Mengidentifikasi adanya missing value\n",
    "\n",
    "bike_df.isnull().sum()"
   ]
  },
  {
   "cell_type": "markdown",
   "metadata": {},
   "source": [
    "**Insight:**\n",
    "- Dari hasil pengecekan missing value, gambar menjelaskan bahwa tidak ditemukan missing value yakni 0"
   ]
  },
  {
   "cell_type": "code",
   "execution_count": 15,
   "metadata": {},
   "outputs": [
    {
     "name": "stdout",
     "output_type": "stream",
     "text": [
      "jumlah duplikasi:  0\n"
     ]
    },
    {
     "data": {
      "text/html": [
       "<div>\n",
       "<style scoped>\n",
       "    .dataframe tbody tr th:only-of-type {\n",
       "        vertical-align: middle;\n",
       "    }\n",
       "\n",
       "    .dataframe tbody tr th {\n",
       "        vertical-align: top;\n",
       "    }\n",
       "\n",
       "    .dataframe thead th {\n",
       "        text-align: right;\n",
       "    }\n",
       "</style>\n",
       "<table border=\"1\" class=\"dataframe\">\n",
       "  <thead>\n",
       "    <tr style=\"text-align: right;\">\n",
       "      <th></th>\n",
       "      <th>instant</th>\n",
       "      <th>season</th>\n",
       "      <th>yr</th>\n",
       "      <th>mnth</th>\n",
       "      <th>hr</th>\n",
       "      <th>holiday</th>\n",
       "      <th>weekday</th>\n",
       "      <th>workingday</th>\n",
       "      <th>weathersit</th>\n",
       "      <th>temp</th>\n",
       "      <th>atemp</th>\n",
       "      <th>hum</th>\n",
       "      <th>windspeed</th>\n",
       "      <th>casual</th>\n",
       "      <th>registered</th>\n",
       "      <th>cnt</th>\n",
       "    </tr>\n",
       "  </thead>\n",
       "  <tbody>\n",
       "    <tr>\n",
       "      <th>count</th>\n",
       "      <td>17379.0000</td>\n",
       "      <td>17379.000000</td>\n",
       "      <td>17379.000000</td>\n",
       "      <td>17379.000000</td>\n",
       "      <td>17379.000000</td>\n",
       "      <td>17379.000000</td>\n",
       "      <td>17379.000000</td>\n",
       "      <td>17379.000000</td>\n",
       "      <td>17379.000000</td>\n",
       "      <td>17379.000000</td>\n",
       "      <td>17379.000000</td>\n",
       "      <td>17379.000000</td>\n",
       "      <td>17379.000000</td>\n",
       "      <td>17379.000000</td>\n",
       "      <td>17379.000000</td>\n",
       "      <td>17379.000000</td>\n",
       "    </tr>\n",
       "    <tr>\n",
       "      <th>mean</th>\n",
       "      <td>8690.0000</td>\n",
       "      <td>2.501640</td>\n",
       "      <td>0.502561</td>\n",
       "      <td>6.537775</td>\n",
       "      <td>11.546752</td>\n",
       "      <td>0.028770</td>\n",
       "      <td>3.003683</td>\n",
       "      <td>0.682721</td>\n",
       "      <td>1.425283</td>\n",
       "      <td>0.496987</td>\n",
       "      <td>0.475775</td>\n",
       "      <td>0.627229</td>\n",
       "      <td>0.190098</td>\n",
       "      <td>35.676218</td>\n",
       "      <td>153.786869</td>\n",
       "      <td>189.463088</td>\n",
       "    </tr>\n",
       "    <tr>\n",
       "      <th>std</th>\n",
       "      <td>5017.0295</td>\n",
       "      <td>1.106918</td>\n",
       "      <td>0.500008</td>\n",
       "      <td>3.438776</td>\n",
       "      <td>6.914405</td>\n",
       "      <td>0.167165</td>\n",
       "      <td>2.005771</td>\n",
       "      <td>0.465431</td>\n",
       "      <td>0.639357</td>\n",
       "      <td>0.192556</td>\n",
       "      <td>0.171850</td>\n",
       "      <td>0.192930</td>\n",
       "      <td>0.122340</td>\n",
       "      <td>49.305030</td>\n",
       "      <td>151.357286</td>\n",
       "      <td>181.387599</td>\n",
       "    </tr>\n",
       "    <tr>\n",
       "      <th>min</th>\n",
       "      <td>1.0000</td>\n",
       "      <td>1.000000</td>\n",
       "      <td>0.000000</td>\n",
       "      <td>1.000000</td>\n",
       "      <td>0.000000</td>\n",
       "      <td>0.000000</td>\n",
       "      <td>0.000000</td>\n",
       "      <td>0.000000</td>\n",
       "      <td>1.000000</td>\n",
       "      <td>0.020000</td>\n",
       "      <td>0.000000</td>\n",
       "      <td>0.000000</td>\n",
       "      <td>0.000000</td>\n",
       "      <td>0.000000</td>\n",
       "      <td>0.000000</td>\n",
       "      <td>1.000000</td>\n",
       "    </tr>\n",
       "    <tr>\n",
       "      <th>25%</th>\n",
       "      <td>4345.5000</td>\n",
       "      <td>2.000000</td>\n",
       "      <td>0.000000</td>\n",
       "      <td>4.000000</td>\n",
       "      <td>6.000000</td>\n",
       "      <td>0.000000</td>\n",
       "      <td>1.000000</td>\n",
       "      <td>0.000000</td>\n",
       "      <td>1.000000</td>\n",
       "      <td>0.340000</td>\n",
       "      <td>0.333300</td>\n",
       "      <td>0.480000</td>\n",
       "      <td>0.104500</td>\n",
       "      <td>4.000000</td>\n",
       "      <td>34.000000</td>\n",
       "      <td>40.000000</td>\n",
       "    </tr>\n",
       "    <tr>\n",
       "      <th>50%</th>\n",
       "      <td>8690.0000</td>\n",
       "      <td>3.000000</td>\n",
       "      <td>1.000000</td>\n",
       "      <td>7.000000</td>\n",
       "      <td>12.000000</td>\n",
       "      <td>0.000000</td>\n",
       "      <td>3.000000</td>\n",
       "      <td>1.000000</td>\n",
       "      <td>1.000000</td>\n",
       "      <td>0.500000</td>\n",
       "      <td>0.484800</td>\n",
       "      <td>0.630000</td>\n",
       "      <td>0.194000</td>\n",
       "      <td>17.000000</td>\n",
       "      <td>115.000000</td>\n",
       "      <td>142.000000</td>\n",
       "    </tr>\n",
       "    <tr>\n",
       "      <th>75%</th>\n",
       "      <td>13034.5000</td>\n",
       "      <td>3.000000</td>\n",
       "      <td>1.000000</td>\n",
       "      <td>10.000000</td>\n",
       "      <td>18.000000</td>\n",
       "      <td>0.000000</td>\n",
       "      <td>5.000000</td>\n",
       "      <td>1.000000</td>\n",
       "      <td>2.000000</td>\n",
       "      <td>0.660000</td>\n",
       "      <td>0.621200</td>\n",
       "      <td>0.780000</td>\n",
       "      <td>0.253700</td>\n",
       "      <td>48.000000</td>\n",
       "      <td>220.000000</td>\n",
       "      <td>281.000000</td>\n",
       "    </tr>\n",
       "    <tr>\n",
       "      <th>max</th>\n",
       "      <td>17379.0000</td>\n",
       "      <td>4.000000</td>\n",
       "      <td>1.000000</td>\n",
       "      <td>12.000000</td>\n",
       "      <td>23.000000</td>\n",
       "      <td>1.000000</td>\n",
       "      <td>6.000000</td>\n",
       "      <td>1.000000</td>\n",
       "      <td>4.000000</td>\n",
       "      <td>1.000000</td>\n",
       "      <td>1.000000</td>\n",
       "      <td>1.000000</td>\n",
       "      <td>0.850700</td>\n",
       "      <td>367.000000</td>\n",
       "      <td>886.000000</td>\n",
       "      <td>977.000000</td>\n",
       "    </tr>\n",
       "  </tbody>\n",
       "</table>\n",
       "</div>"
      ],
      "text/plain": [
       "          instant        season            yr          mnth            hr  \\\n",
       "count  17379.0000  17379.000000  17379.000000  17379.000000  17379.000000   \n",
       "mean    8690.0000      2.501640      0.502561      6.537775     11.546752   \n",
       "std     5017.0295      1.106918      0.500008      3.438776      6.914405   \n",
       "min        1.0000      1.000000      0.000000      1.000000      0.000000   \n",
       "25%     4345.5000      2.000000      0.000000      4.000000      6.000000   \n",
       "50%     8690.0000      3.000000      1.000000      7.000000     12.000000   \n",
       "75%    13034.5000      3.000000      1.000000     10.000000     18.000000   \n",
       "max    17379.0000      4.000000      1.000000     12.000000     23.000000   \n",
       "\n",
       "            holiday       weekday    workingday    weathersit          temp  \\\n",
       "count  17379.000000  17379.000000  17379.000000  17379.000000  17379.000000   \n",
       "mean       0.028770      3.003683      0.682721      1.425283      0.496987   \n",
       "std        0.167165      2.005771      0.465431      0.639357      0.192556   \n",
       "min        0.000000      0.000000      0.000000      1.000000      0.020000   \n",
       "25%        0.000000      1.000000      0.000000      1.000000      0.340000   \n",
       "50%        0.000000      3.000000      1.000000      1.000000      0.500000   \n",
       "75%        0.000000      5.000000      1.000000      2.000000      0.660000   \n",
       "max        1.000000      6.000000      1.000000      4.000000      1.000000   \n",
       "\n",
       "              atemp           hum     windspeed        casual    registered  \\\n",
       "count  17379.000000  17379.000000  17379.000000  17379.000000  17379.000000   \n",
       "mean       0.475775      0.627229      0.190098     35.676218    153.786869   \n",
       "std        0.171850      0.192930      0.122340     49.305030    151.357286   \n",
       "min        0.000000      0.000000      0.000000      0.000000      0.000000   \n",
       "25%        0.333300      0.480000      0.104500      4.000000     34.000000   \n",
       "50%        0.484800      0.630000      0.194000     17.000000    115.000000   \n",
       "75%        0.621200      0.780000      0.253700     48.000000    220.000000   \n",
       "max        1.000000      1.000000      0.850700    367.000000    886.000000   \n",
       "\n",
       "                cnt  \n",
       "count  17379.000000  \n",
       "mean     189.463088  \n",
       "std      181.387599  \n",
       "min        1.000000  \n",
       "25%       40.000000  \n",
       "50%      142.000000  \n",
       "75%      281.000000  \n",
       "max      977.000000  "
      ]
     },
     "execution_count": 15,
     "metadata": {},
     "output_type": "execute_result"
    }
   ],
   "source": [
    "# Mengidentifikasi adanya duplikasi data dan inaccurate value\n",
    "\n",
    "print(\"jumlah duplikasi: \", bike_df.duplicated().sum())\n",
    "\n",
    "bike_df.describe()"
   ]
  },
  {
   "cell_type": "markdown",
   "metadata": {},
   "source": [
    "**Insight:**\n",
    "- Berdasarkan hasil pengecekan duplikasi data menggunakan duplicated(), didapat hasil bahwa tidak ditemukan adanya data duplikat.\n",
    "- Tidak ditemukan adanya inaccurate value"
   ]
  },
  {
   "cell_type": "code",
   "execution_count": 17,
   "metadata": {},
   "outputs": [
    {
     "name": "stdout",
     "output_type": "stream",
     "text": [
      "Outliers berdasarkan IQR:\n",
      "        instant      dteday  season  yr  mnth  hr  holiday  weekday  \\\n",
      "5536      5537  2011-08-23       3   0     8  14        0        2   \n",
      "10358    10359  2012-03-12       1   1     3  17        0        1   \n",
      "10359    10360  2012-03-12       1   1     3  18        0        1   \n",
      "10382    10383  2012-03-13       1   1     3  17        0        2   \n",
      "10383    10384  2012-03-13       1   1     3  18        0        2   \n",
      "...        ...         ...     ...  ..   ...  ..      ...      ...   \n",
      "16885    16886  2012-12-11       4   1    12   8        0        2   \n",
      "16909    16910  2012-12-12       4   1    12   8        0        3   \n",
      "16933    16934  2012-12-13       4   1    12   8        0        4   \n",
      "17053    17054  2012-12-18       4   1    12   8        0        2   \n",
      "17077    17078  2012-12-19       4   1    12   8        0        3   \n",
      "\n",
      "       workingday  weathersit  temp   atemp   hum  windspeed  casual  \\\n",
      "5536            1           1  0.72  0.6515  0.30     0.0896     149   \n",
      "10358           1           2  0.62  0.6212  0.38     0.4179      87   \n",
      "10359           1           2  0.60  0.6212  0.43     0.1940      89   \n",
      "10382           1           1  0.70  0.6364  0.37     0.1045      62   \n",
      "10383           1           1  0.70  0.6364  0.34     0.2985      96   \n",
      "...           ...         ...   ...     ...   ...        ...     ...   \n",
      "16885           1           2  0.34  0.3030  0.61     0.2985      16   \n",
      "16909           1           2  0.26  0.2576  0.65     0.1642      18   \n",
      "16933           1           1  0.24  0.2273  0.60     0.1940      24   \n",
      "17053           1           1  0.38  0.3939  0.94     0.0000      10   \n",
      "17077           1           1  0.24  0.2576  0.87     0.1045      13   \n",
      "\n",
      "       registered  cnt  \n",
      "5536          502  651  \n",
      "10358         557  644  \n",
      "10359         623  712  \n",
      "10382         614  676  \n",
      "10383         638  734  \n",
      "...           ...  ...  \n",
      "16885         708  724  \n",
      "16909         670  688  \n",
      "16933         655  679  \n",
      "17053         652  662  \n",
      "17077         665  678  \n",
      "\n",
      "[505 rows x 17 columns]\n"
     ]
    }
   ],
   "source": [
    "# Mengidentifkasi Outliers dengan menghitung Q1, Q3, dan IQR untuk kolom 'cnt'\n",
    "Q1 = bike_df['cnt'].quantile(0.25)\n",
    "Q3 = bike_df['cnt'].quantile(0.75)\n",
    "IQR = Q3 - Q1\n",
    "\n",
    "# Mendapatkan outliers\n",
    "outliers = bike_df[(bike_df['cnt'] < (Q1 - 1.5 * IQR)) | (bike_df['cnt'] > (Q3 + 1.5 * IQR))]\n",
    "print(\"Outliers berdasarkan IQR:\\n\", outliers)"
   ]
  },
  {
   "cell_type": "code",
   "execution_count": 18,
   "metadata": {},
   "outputs": [
    {
     "data": {
      "image/png": "[encoded data removed]",
      "text/plain": [
       "<Figure size 640x480 with 1 Axes>"
      ]
     },
     "metadata": {},
     "output_type": "display_data"
    }
   ],
   "source": [
    "# Mengidentifikasi Outliers dengan membuat boxplot untuk kolom 'cnt'\n",
    "plt.boxplot(bike_df['cnt'], vert=False)\n",
    "plt.title(\"Identifikasi Outliers pada Kolom 'cnt'\")\n",
    "plt.ylabel('cnt')\n",
    "plt.show()"
   ]
  },
  {
   "cell_type": "code",
   "execution_count": 19,
   "metadata": {},
   "outputs": [
    {
     "name": "stdout",
     "output_type": "stream",
     "text": [
      "Outliers berdasarkan Z-score:\n",
      "        instant      dteday  season  yr  mnth  hr  holiday  weekday  \\\n",
      "10383    10384  2012-03-13       1   1     3  18        0        2   \n",
      "10406    10407  2012-03-14       1   1     3  17        0        3   \n",
      "10407    10408  2012-03-14       1   1     3  18        0        3   \n",
      "10431    10432  2012-03-15       1   1     3  18        0        4   \n",
      "10527    10528  2012-03-19       1   1     3  18        0        1   \n",
      "...        ...         ...     ...  ..   ...  ..      ...      ...   \n",
      "15828    15829  2012-10-26       4   1    10  17        0        5   \n",
      "15848    15849  2012-10-27       4   1    10  13        0        6   \n",
      "15849    15850  2012-10-27       4   1    10  14        0        6   \n",
      "16726    16727  2012-12-04       4   1    12  17        0        2   \n",
      "16741    16742  2012-12-05       4   1    12   8        0        3   \n",
      "\n",
      "       workingday  weathersit  temp   atemp   hum  windspeed  casual  \\\n",
      "10383           1           1  0.70  0.6364  0.34     0.2985      96   \n",
      "10406           1           1  0.70  0.6364  0.28     0.0896     140   \n",
      "10407           1           1  0.70  0.6364  0.32     0.0000     102   \n",
      "10431           1           1  0.66  0.6212  0.44     0.2836      98   \n",
      "10527           1           1  0.64  0.6212  0.57     0.2537     120   \n",
      "...           ...         ...   ...     ...   ...        ...     ...   \n",
      "15828           1           2  0.56  0.5303  0.76     0.1940     125   \n",
      "15848           0           1  0.60  0.6212  0.43     0.2537     310   \n",
      "15849           0           1  0.60  0.6212  0.46     0.2537     325   \n",
      "16726           1           1  0.52  0.5000  0.59     0.2239      43   \n",
      "16741           1           2  0.44  0.4394  0.58     0.2836      22   \n",
      "\n",
      "       registered  cnt   z_score  \n",
      "10383         638  734  3.002149  \n",
      "10406         642  782  3.266783  \n",
      "10407         647  749  3.084847  \n",
      "10431         648  746  3.068307  \n",
      "10527         681  801  3.371534  \n",
      "...           ...  ...       ...  \n",
      "15828         692  817  3.459746  \n",
      "15848         450  760  3.145492  \n",
      "15849         425  750  3.090360  \n",
      "16726         700  743  3.051768  \n",
      "16741         737  759  3.139979  \n",
      "\n",
      "[244 rows x 18 columns]\n"
     ]
    }
   ],
   "source": [
    "# Mengidentifikasi outliers dengan menghitung z-score untuk kolom 'cnt'\n",
    "bike_df['z_score'] = stats.zscore(bike_df['cnt'])\n",
    "\n",
    "# Mendapatkan outliers berdasarkan threshold z-score\n",
    "outliers = bike_df[(bike_df['z_score'] > 3) | (bike_df['z_score'] < -3)]\n",
    "print(\"Outliers berdasarkan Z-score:\\n\", outliers)"
   ]
  },
  {
   "cell_type": "markdown",
   "metadata": {
    "id": "EhN5R4hr8DC1"
   },
   "source": [
    "### Cleaning Data\n",
    "\n",
    "Melakukan perbaikan tipe data pada **dteday** yang masih menggunakan tipe data object, menggantikannya menjadi datetime"
   ]
  },
  {
   "cell_type": "code",
   "execution_count": 21,
   "metadata": {
    "id": "jVnYpprE9Evz"
   },
   "outputs": [],
   "source": [
    "# Memperbaiki tipe data pada kolom dteday\n",
    "\n",
    "datetime_columns = [\"dteday\"]\n",
    "\n",
    "for column in datetime_columns:\n",
    "    bike_df[column] = pd.to_datetime(bike_df[column])"
   ]
  },
  {
   "cell_type": "code",
   "execution_count": 22,
   "metadata": {},
   "outputs": [
    {
     "name": "stdout",
     "output_type": "stream",
     "text": [
      "<class 'pandas.core.frame.DataFrame'>\n",
      "RangeIndex: 17379 entries, 0 to 17378\n",
      "Data columns (total 18 columns):\n",
      " #   Column      Non-Null Count  Dtype         \n",
      "---  ------      --------------  -----         \n",
      " 0   instant     17379 non-null  int64         \n",
      " 1   dteday      17379 non-null  datetime64[ns]\n",
      " 2   season      17379 non-null  int64         \n",
      " 3   yr          17379 non-null  int64         \n",
      " 4   mnth        17379 non-null  int64         \n",
      " 5   hr          17379 non-null  int64         \n",
      " 6   holiday     17379 non-null  int64         \n",
      " 7   weekday     17379 non-null  int64         \n",
      " 8   workingday  17379 non-null  int64         \n",
      " 9   weathersit  17379 non-null  int64         \n",
      " 10  temp        17379 non-null  float64       \n",
      " 11  atemp       17379 non-null  float64       \n",
      " 12  hum         17379 non-null  float64       \n",
      " 13  windspeed   17379 non-null  float64       \n",
      " 14  casual      17379 non-null  int64         \n",
      " 15  registered  17379 non-null  int64         \n",
      " 16  cnt         17379 non-null  int64         \n",
      " 17  z_score     17379 non-null  float64       \n",
      "dtypes: datetime64[ns](1), float64(5), int64(12)\n",
      "memory usage: 2.4 MB\n"
     ]
    }
   ],
   "source": [
    "bike_df.info()"
   ]
  },
  {
   "cell_type": "markdown",
   "metadata": {
    "id": "Q_5ejIqckiSP"
   },
   "source": [
    "**Insight:**\n",
    "- Kolom data pada **dteday** sudah diganti dari *object* menjadi tipe data *datetime*"
   ]
  },
  {
   "cell_type": "markdown",
   "metadata": {},
   "source": [
    "#### Menghapus Outliers"
   ]
  },
  {
   "cell_type": "code",
   "execution_count": 25,
   "metadata": {},
   "outputs": [
    {
     "data": {
      "image/png": "[encoded data removed]",
      "text/plain": [
       "<Figure size 1000x500 with 1 Axes>"
      ]
     },
     "metadata": {},
     "output_type": "display_data"
    },
    {
     "name": "stdout",
     "output_type": "stream",
     "text": [
      "Jumlah data sebelum di-drop: 17379\n",
      "Jumlah data setelah di-drop: 16100\n"
     ]
    }
   ],
   "source": [
    "# Menghitung Q1, Q3, dan IQR\n",
    "Q1 = bike_df['cnt'].quantile(0.25)\n",
    "Q3 = bike_df['cnt'].quantile(0.75)\n",
    "IQR = Q3 - Q1\n",
    "\n",
    "# Menentukan batas bawah dan atas \n",
    "lower_bound = Q1 - (1.5 * IQR)\n",
    "upper_bound = Q3 + (1.5 * IQR)\n",
    "\n",
    "# Atur ambang batas khusus untuk menghilangkan outliers\n",
    "custom_upper_bound = 500\n",
    "\n",
    "# Menghapus outliers dengan batas IQR dan tambahan batas khusus\n",
    "cleaned_bike_df = bike_df[(bike_df['cnt'] >= lower_bound) & (bike_df['cnt'] <= custom_upper_bound)]\n",
    "\n",
    "# Visualisasi boxplot tanpa outliers\n",
    "plt.figure(figsize=(10, 5))\n",
    "plt.boxplot(cleaned_bike_df['cnt'])\n",
    "plt.title(\"Boxplot untuk uji outliers pada kolom 'cnt'\")\n",
    "plt.ylabel(\"Jumlah Penyewaan Sepeda (cnt)\")\n",
    "plt.show()\n",
    "\n",
    "# Menampilkan jumlah data sebelum dan sesudah outliers dihapus\n",
    "print(f\"Jumlah data sebelum di-drop: {len(bike_df)}\")\n",
    "print(f\"Jumlah data setelah di-drop: {len(cleaned_bike_df)}\")"
   ]
  },
  {
   "cell_type": "markdown",
   "metadata": {},
   "source": [
    "**Insight**:\n",
    "- Outliers sudah tidak ada\n",
    "- terdapat 16100 data setelah dilakukan dropping"
   ]
  },
  {
   "cell_type": "markdown",
   "metadata": {
    "id": "gp-Y6wU38DC1"
   },
   "source": [
    "## Exploratory Data Analysis (EDA)"
   ]
  },
  {
   "cell_type": "code",
   "execution_count": 28,
   "metadata": {
    "id": "e9CQCZjk8DC2"
   },
   "outputs": [
    {
     "data": {
      "text/html": [
       "<div>\n",
       "<style scoped>\n",
       "    .dataframe tbody tr th:only-of-type {\n",
       "        vertical-align: middle;\n",
       "    }\n",
       "\n",
       "    .dataframe tbody tr th {\n",
       "        vertical-align: top;\n",
       "    }\n",
       "\n",
       "    .dataframe thead th {\n",
       "        text-align: right;\n",
       "    }\n",
       "</style>\n",
       "<table border=\"1\" class=\"dataframe\">\n",
       "  <thead>\n",
       "    <tr style=\"text-align: right;\">\n",
       "      <th></th>\n",
       "      <th>instant</th>\n",
       "      <th>dteday</th>\n",
       "      <th>season</th>\n",
       "      <th>yr</th>\n",
       "      <th>mnth</th>\n",
       "      <th>hr</th>\n",
       "      <th>holiday</th>\n",
       "      <th>weekday</th>\n",
       "      <th>workingday</th>\n",
       "      <th>weathersit</th>\n",
       "      <th>temp</th>\n",
       "      <th>atemp</th>\n",
       "      <th>hum</th>\n",
       "      <th>windspeed</th>\n",
       "      <th>casual</th>\n",
       "      <th>registered</th>\n",
       "      <th>cnt</th>\n",
       "      <th>z_score</th>\n",
       "    </tr>\n",
       "  </thead>\n",
       "  <tbody>\n",
       "    <tr>\n",
       "      <th>count</th>\n",
       "      <td>16100.000000</td>\n",
       "      <td>16100</td>\n",
       "      <td>16100.000000</td>\n",
       "      <td>16100.000000</td>\n",
       "      <td>16100.000000</td>\n",
       "      <td>16100.000000</td>\n",
       "      <td>16100.000000</td>\n",
       "      <td>16100.000000</td>\n",
       "      <td>16100.000000</td>\n",
       "      <td>16100.000000</td>\n",
       "      <td>16100.000000</td>\n",
       "      <td>16100.000000</td>\n",
       "      <td>16100.000000</td>\n",
       "      <td>16100.000000</td>\n",
       "      <td>16100.000000</td>\n",
       "      <td>16100.000000</td>\n",
       "      <td>16100.000000</td>\n",
       "      <td>16100.000000</td>\n",
       "    </tr>\n",
       "    <tr>\n",
       "      <th>mean</th>\n",
       "      <td>8403.173416</td>\n",
       "      <td>2011-12-21 04:28:30.111801344</td>\n",
       "      <td>2.478323</td>\n",
       "      <td>0.473602</td>\n",
       "      <td>6.492547</td>\n",
       "      <td>11.288447</td>\n",
       "      <td>0.030000</td>\n",
       "      <td>2.998634</td>\n",
       "      <td>0.679876</td>\n",
       "      <td>1.439814</td>\n",
       "      <td>0.486399</td>\n",
       "      <td>0.466459</td>\n",
       "      <td>0.635743</td>\n",
       "      <td>0.188431</td>\n",
       "      <td>29.537143</td>\n",
       "      <td>124.438012</td>\n",
       "      <td>153.975155</td>\n",
       "      <td>-0.195653</td>\n",
       "    </tr>\n",
       "    <tr>\n",
       "      <th>min</th>\n",
       "      <td>1.000000</td>\n",
       "      <td>2011-01-01 00:00:00</td>\n",
       "      <td>1.000000</td>\n",
       "      <td>0.000000</td>\n",
       "      <td>1.000000</td>\n",
       "      <td>0.000000</td>\n",
       "      <td>0.000000</td>\n",
       "      <td>0.000000</td>\n",
       "      <td>0.000000</td>\n",
       "      <td>1.000000</td>\n",
       "      <td>0.020000</td>\n",
       "      <td>0.000000</td>\n",
       "      <td>0.000000</td>\n",
       "      <td>0.000000</td>\n",
       "      <td>0.000000</td>\n",
       "      <td>0.000000</td>\n",
       "      <td>1.000000</td>\n",
       "      <td>-1.039037</td>\n",
       "    </tr>\n",
       "    <tr>\n",
       "      <th>25%</th>\n",
       "      <td>4082.750000</td>\n",
       "      <td>2011-06-23 18:00:00</td>\n",
       "      <td>1.000000</td>\n",
       "      <td>0.000000</td>\n",
       "      <td>3.000000</td>\n",
       "      <td>5.000000</td>\n",
       "      <td>0.000000</td>\n",
       "      <td>1.000000</td>\n",
       "      <td>0.000000</td>\n",
       "      <td>1.000000</td>\n",
       "      <td>0.320000</td>\n",
       "      <td>0.318200</td>\n",
       "      <td>0.490000</td>\n",
       "      <td>0.104500</td>\n",
       "      <td>3.000000</td>\n",
       "      <td>29.000000</td>\n",
       "      <td>35.000000</td>\n",
       "      <td>-0.851588</td>\n",
       "    </tr>\n",
       "    <tr>\n",
       "      <th>50%</th>\n",
       "      <td>8220.500000</td>\n",
       "      <td>2011-12-14 00:00:00</td>\n",
       "      <td>2.000000</td>\n",
       "      <td>0.000000</td>\n",
       "      <td>6.000000</td>\n",
       "      <td>11.000000</td>\n",
       "      <td>0.000000</td>\n",
       "      <td>3.000000</td>\n",
       "      <td>1.000000</td>\n",
       "      <td>1.000000</td>\n",
       "      <td>0.480000</td>\n",
       "      <td>0.469700</td>\n",
       "      <td>0.640000</td>\n",
       "      <td>0.164200</td>\n",
       "      <td>14.000000</td>\n",
       "      <td>104.000000</td>\n",
       "      <td>125.000000</td>\n",
       "      <td>-0.355399</td>\n",
       "    </tr>\n",
       "    <tr>\n",
       "      <th>75%</th>\n",
       "      <td>12673.250000</td>\n",
       "      <td>2012-06-17 00:00:00</td>\n",
       "      <td>3.000000</td>\n",
       "      <td>1.000000</td>\n",
       "      <td>10.000000</td>\n",
       "      <td>17.000000</td>\n",
       "      <td>0.000000</td>\n",
       "      <td>5.000000</td>\n",
       "      <td>1.000000</td>\n",
       "      <td>2.000000</td>\n",
       "      <td>0.640000</td>\n",
       "      <td>0.606100</td>\n",
       "      <td>0.790000</td>\n",
       "      <td>0.253700</td>\n",
       "      <td>41.000000</td>\n",
       "      <td>191.000000</td>\n",
       "      <td>241.000000</td>\n",
       "      <td>0.284134</td>\n",
       "    </tr>\n",
       "    <tr>\n",
       "      <th>max</th>\n",
       "      <td>17379.000000</td>\n",
       "      <td>2012-12-31 00:00:00</td>\n",
       "      <td>4.000000</td>\n",
       "      <td>1.000000</td>\n",
       "      <td>12.000000</td>\n",
       "      <td>23.000000</td>\n",
       "      <td>1.000000</td>\n",
       "      <td>6.000000</td>\n",
       "      <td>1.000000</td>\n",
       "      <td>4.000000</td>\n",
       "      <td>1.000000</td>\n",
       "      <td>1.000000</td>\n",
       "      <td>1.000000</td>\n",
       "      <td>0.850700</td>\n",
       "      <td>272.000000</td>\n",
       "      <td>494.000000</td>\n",
       "      <td>500.000000</td>\n",
       "      <td>1.712057</td>\n",
       "    </tr>\n",
       "    <tr>\n",
       "      <th>std</th>\n",
       "      <td>5010.246149</td>\n",
       "      <td>NaN</td>\n",
       "      <td>1.119524</td>\n",
       "      <td>0.499318</td>\n",
       "      <td>3.495768</td>\n",
       "      <td>7.033504</td>\n",
       "      <td>0.170593</td>\n",
       "      <td>2.011057</td>\n",
       "      <td>0.466539</td>\n",
       "      <td>0.647551</td>\n",
       "      <td>0.191829</td>\n",
       "      <td>0.171643</td>\n",
       "      <td>0.191962</td>\n",
       "      <td>0.122748</td>\n",
       "      <td>38.937434</td>\n",
       "      <td>106.995355</td>\n",
       "      <td>132.130222</td>\n",
       "      <td>0.728462</td>\n",
       "    </tr>\n",
       "  </tbody>\n",
       "</table>\n",
       "</div>"
      ],
      "text/plain": [
       "            instant                         dteday        season  \\\n",
       "count  16100.000000                          16100  16100.000000   \n",
       "mean    8403.173416  2011-12-21 04:28:30.111801344      2.478323   \n",
       "min        1.000000            2011-01-01 00:00:00      1.000000   \n",
       "25%     4082.750000            2011-06-23 18:00:00      1.000000   \n",
       "50%     8220.500000            2011-12-14 00:00:00      2.000000   \n",
       "75%    12673.250000            2012-06-17 00:00:00      3.000000   \n",
       "max    17379.000000            2012-12-31 00:00:00      4.000000   \n",
       "std     5010.246149                            NaN      1.119524   \n",
       "\n",
       "                 yr          mnth            hr       holiday       weekday  \\\n",
       "count  16100.000000  16100.000000  16100.000000  16100.000000  16100.000000   \n",
       "mean       0.473602      6.492547     11.288447      0.030000      2.998634   \n",
       "min        0.000000      1.000000      0.000000      0.000000      0.000000   \n",
       "25%        0.000000      3.000000      5.000000      0.000000      1.000000   \n",
       "50%        0.000000      6.000000     11.000000      0.000000      3.000000   \n",
       "75%        1.000000     10.000000     17.000000      0.000000      5.000000   \n",
       "max        1.000000     12.000000     23.000000      1.000000      6.000000   \n",
       "std        0.499318      3.495768      7.033504      0.170593      2.011057   \n",
       "\n",
       "         workingday    weathersit          temp         atemp           hum  \\\n",
       "count  16100.000000  16100.000000  16100.000000  16100.000000  16100.000000   \n",
       "mean       0.679876      1.439814      0.486399      0.466459      0.635743   \n",
       "min        0.000000      1.000000      0.020000      0.000000      0.000000   \n",
       "25%        0.000000      1.000000      0.320000      0.318200      0.490000   \n",
       "50%        1.000000      1.000000      0.480000      0.469700      0.640000   \n",
       "75%        1.000000      2.000000      0.640000      0.606100      0.790000   \n",
       "max        1.000000      4.000000      1.000000      1.000000      1.000000   \n",
       "std        0.466539      0.647551      0.191829      0.171643      0.191962   \n",
       "\n",
       "          windspeed        casual    registered           cnt       z_score  \n",
       "count  16100.000000  16100.000000  16100.000000  16100.000000  16100.000000  \n",
       "mean       0.188431     29.537143    124.438012    153.975155     -0.195653  \n",
       "min        0.000000      0.000000      0.000000      1.000000     -1.039037  \n",
       "25%        0.104500      3.000000     29.000000     35.000000     -0.851588  \n",
       "50%        0.164200     14.000000    104.000000    125.000000     -0.355399  \n",
       "75%        0.253700     41.000000    191.000000    241.000000      0.284134  \n",
       "max        0.850700    272.000000    494.000000    500.000000      1.712057  \n",
       "std        0.122748     38.937434    106.995355    132.130222      0.728462  "
      ]
     },
     "execution_count": 28,
     "metadata": {},
     "output_type": "execute_result"
    }
   ],
   "source": [
    "cleaned_bike_df.describe(include=\"all\")"
   ]
  },
  {
   "cell_type": "markdown",
   "metadata": {},
   "source": [
    "**Insight:**\n",
    "- xx\n",
    "  xx"
   ]
  },
  {
   "cell_type": "markdown",
   "metadata": {},
   "source": [
    "## Visualization & Explanatory Analysis"
   ]
  },
  {
   "cell_type": "markdown",
   "metadata": {
    "id": "DgHI7CiU8DC2"
   },
   "source": [
    "### Pertanyaan 1:\n",
    "#### 1. Apakah perbedaan musim mempunyai pengaruh terhadap jumlah penyewaan sepeda?"
   ]
  },
  {
   "cell_type": "markdown",
   "metadata": {},
   "source": [
    "Pembuatan bar chart dengan menggunakan kolom `season` berdasarkan nilai rerata dari `cnt` untuk melihat bagaimana kondisi cuaca mempengaruhi jumlah penyewaan sepeda"
   ]
  },
  {
   "cell_type": "code",
   "execution_count": 33,
   "metadata": {
    "id": "Go0lCsvO8DC2"
   },
   "outputs": [
    {
     "name": "stdout",
     "output_type": "stream",
     "text": [
      "         season         cnt\n",
      "0    Musim Semi  102.047573\n",
      "1   Musim Panas  165.024293\n",
      "2   Musim Gugur  187.876335\n",
      "3  Musim Dingin  163.031649\n"
     ]
    }
   ],
   "source": [
    "# Mengelompokkan data berdasarkan musim serta menghitung nilai rerata dari jumlah penyewaan sepeda\n",
    "average_rental_by_season = cleaned_bike_df.groupby('season')['cnt'].mean().reset_index()\n",
    "\n",
    "# Memberikan label nama musim pada setiap kode angka\n",
    "season_mapping = {1: 'Musim Semi', 2: 'Musim Panas', 3: 'Musim Gugur', 4: 'Musim Dingin'}\n",
    "average_rental_by_season['season'] = average_rental_by_season['season'].map(season_mapping)\n",
    "\n",
    "# Menampilkan hasil\n",
    "print(average_rental_by_season)"
   ]
  },
  {
   "cell_type": "markdown",
   "metadata": {},
   "source": [
    "**Insight:**\n",
    "- Musim Gugur mempunyai jumlah rerata penyewaan sepeda tertinggi yakni sebesar 188\n",
    "- Musim Semi mempunyai jumlah rerata penyewaan sepeda terendah yakni sebesar 102"
   ]
  },
  {
   "cell_type": "code",
   "execution_count": 35,
   "metadata": {},
   "outputs": [
    {
     "data": {
      "image/png": "[encoded data removed]",
      "text/plain": [
       "<Figure size 800x600 with 1 Axes>"
      ]
     },
     "metadata": {},
     "output_type": "display_data"
    }
   ],
   "source": [
    "# Visualisasi nilai rata-rata dengan menggunakan bar chart\n",
    "plt.figure(figsize=(8, 6))\n",
    "plt.bar(average_rental_by_season['season'], average_rental_by_season['cnt'], color=['springgreen', 'red', 'orange', 'skyblue'])\n",
    "plt.title('Rata-Rata Penyewaan Sepeda Berdasarkan Musim')\n",
    "plt.xlabel('Musim')\n",
    "plt.ylabel('Rata-Rata Jumlah Penyewaan Sepeda')\n",
    "plt.show()"
   ]
  },
  {
   "cell_type": "markdown",
   "metadata": {},
   "source": [
    "**Insight:**\n",
    "- Berdasarkan grafik, musim gugur mempunyai nilai rerata tertinggi sedangkan musim semi mempunyai nilai rerata yang paling terendah"
   ]
  },
  {
   "cell_type": "markdown",
   "metadata": {
    "id": "HZxOiQ6n8DC2"
   },
   "source": [
    "### Pertanyaan 2:\n",
    "#### 2. Bagaimanakah pengaruh dari Cuaca terhadap tren jumlah penyewaan sepeda? "
   ]
  },
  {
   "cell_type": "markdown",
   "metadata": {},
   "source": [
    "Pembuatan bar chart dengan menggunakan kolom `weathersit` untuk melihat bagaimana kondisi cuaca mempengaruhi jumlah penyewaan sepeda dengan menggunakan nilai rerata dari kolom `cnt`"
   ]
  },
  {
   "cell_type": "code",
   "execution_count": 39,
   "metadata": {},
   "outputs": [
    {
     "name": "stdout",
     "output_type": "stream",
     "text": [
      "                 weathersit         cnt\n",
      "0                     Cerah  163.044101\n",
      "1                  Berkabut  150.019043\n",
      "2              Hujan ringan   98.215474\n",
      "3  Hujan lebat atau ekstrem   74.333333\n"
     ]
    }
   ],
   "source": [
    "# Mengelompokkan data `cnt` berdasarkan kolom `weathersit` dan Menghitung jumlah rata-rata penyewaan sepeda\n",
    "rental_by_weather = cleaned_bike_df.groupby('weathersit')['cnt'].mean().reset_index()\n",
    "\n",
    "# Mengubah kode cuaca menjadi kata agar mudah dimengerti\n",
    "weather_descriptions = {\n",
    "    1: \"Cerah\",\n",
    "    2: \"Berkabut\",\n",
    "    3: \"Hujan ringan\",\n",
    "    4: \"Hujan lebat atau ekstrem\"\n",
    "}\n",
    "\n",
    "rental_by_weather['weathersit'] = rental_by_weather['weathersit'].map(weather_descriptions)\n",
    "\n",
    "# Menampilkan hasil dari pengelompokan data\n",
    "print(rental_by_weather)"
   ]
  },
  {
   "cell_type": "markdown",
   "metadata": {},
   "source": [
    "**Insight:**\n",
    "- Cuaca Cerah (1) mempunyai nilai rata-rata penyewaan sepeda tertinggi sebesar 163\n",
    "- Cuaca Berkabut (2) mempunyai nilai rata-rata penyewaan sepeda tertinggi kedua sebesar 150\n",
    "- Cuaca Hujan Ringan (3) mempunyai nilai rata-rata penyewaan sepeda terendah kedua sebesar 98\n",
    "- Cuaca Esktrem (4) mempunyai nilai rata-rata penyewaan sepeda terendah sebesar 73"
   ]
  },
  {
   "cell_type": "code",
   "execution_count": 41,
   "metadata": {},
   "outputs": [
    {
     "data": {
      "image/png": "[encoded data removed]",
      "text/plain": [
       "<Figure size 1000x600 with 1 Axes>"
      ]
     },
     "metadata": {},
     "output_type": "display_data"
    }
   ],
   "source": [
    "# Visualisasi menggunakan bar chart\n",
    "plt.figure(figsize=(10, 6))\n",
    "plt.bar(rental_by_weather['weathersit'], rental_by_weather['cnt'], color=['skyblue', 'gray', 'lightcoral', 'steelblue'])\n",
    "plt.title('Rata-Rata Penyewaan Sepeda Berdasarkan Kondisi Cuaca')\n",
    "plt.xlabel('Kondisi Cuaca')\n",
    "plt.ylabel('Rata-Rata Jumlah Penyewaan Sepeda')\n",
    "plt.show()"
   ]
  },
  {
   "cell_type": "markdown",
   "metadata": {
    "id": "th_Lzl2Fkj9O"
   },
   "source": [
    "**Insight:**\n",
    "Kondisi cuaca dengan kategori yakni sebagai berikut\n",
    "- cuaca 1 atau cerah, mempunyai sebaran nilai rerata penyewaan sepeda tertinggi\n",
    "- cuaca 4 atau ekstrim, mempunyai sebaran nilai rerata penyewaan sepeda terendah"
   ]
  },
  {
   "cell_type": "markdown",
   "metadata": {
    "id": "9y4VUsmcYNZ5"
   },
   "source": [
    "## Analisis Lanjutan (Opsional)"
   ]
  },
  {
   "cell_type": "markdown",
   "metadata": {
    "id": "iWhnzsJGYUCO"
   },
   "source": [
    "#### Menerapkan metode Clustering untuk mengelompokkan tren penyewaan sepeda berdasarkan pembagian waktu (pagi, siang, sore dan malam)."
   ]
  },
  {
   "cell_type": "code",
   "execution_count": 71,
   "metadata": {},
   "outputs": [],
   "source": [
    "# Kategorisasi waktu dalam sehari\n",
    "def categorize_time(hour):\n",
    "    if 5 <= hour < 11:\n",
    "        return 'Pagi'      # 05:00 - 11:59\n",
    "    elif 11 <= hour < 14:\n",
    "        return 'Siang'     # 12:00 - 16:59\n",
    "    elif 14 <= hour < 18:\n",
    "        return 'Sore'      # 17:00 - 20:59\n",
    "    else:\n",
    "        return 'Malam'     # 21:00 - 04:59\n",
    "\n",
    "cleaned_bike_df.loc[:, 'Waktu'] = cleaned_bike_df['hr'].apply(categorize_time)"
   ]
  },
  {
   "cell_type": "code",
   "execution_count": 46,
   "metadata": {},
   "outputs": [
    {
     "name": "stdout",
     "output_type": "stream",
     "text": [
      "   Waktu         cnt\n",
      "0  Malam  110.827769\n",
      "1   Pagi  148.933642\n",
      "2  Siang  213.593444\n",
      "3   Sore  247.159817\n"
     ]
    },
    {
     "data": {
      "image/png": "[encoded data removed]",
      "text/plain": [
       "<Figure size 800x600 with 1 Axes>"
      ]
     },
     "metadata": {},
     "output_type": "display_data"
    }
   ],
   "source": [
    "# Mengelompokkan data berdasarkan rentang waktu dan menghitung rata-rata penyewaan\n",
    "time_avg = cleaned_bike_df.groupby('Waktu').agg({'cnt': 'mean'}).reset_index()\n",
    "print(time_avg)\n",
    "\n",
    "# Membuat visualisasi data dengan bar chart terkait persebaran rerata penyewaan sepeda berdasarkan rentang waktu\n",
    "plt.figure(figsize=(8, 6))\n",
    "sns.barplot(x='Waktu', y='cnt', data=time_avg, palette='viridis', hue='Waktu', legend=False)\n",
    "plt.xlabel('Rentang Waktu dalam hari')\n",
    "plt.ylabel('Rata-Rata Jumlah Penyewaan Sepeda')\n",
    "plt.title('Rata-Rata Penyewaan Sepeda Berdasarkan Waktu (Pagi, Siang, Sore, Malam)')\n",
    "plt.show()"
   ]
  },
  {
   "cell_type": "markdown",
   "metadata": {},
   "source": [
    "**Insight:**\n",
    "Berdasarkan pengelompokkan rentang waktu, maka dapat disimpulkan bahwa:\n",
    "- Nilai rata-rata jumlah penyewaan sepeda pada sore hari merupakan nilai tertinggi 247\n",
    "- Sedangkan pada malam hari, nilai rata-rata jumlah penyewaan sepeda sangat rendah sebesar 111"
   ]
  },
  {
   "cell_type": "markdown",
   "metadata": {
    "id": "_WeHlCeX8DC2"
   },
   "source": [
    "## Conclusion"
   ]
  },
  {
   "cell_type": "markdown",
   "metadata": {
    "id": "ZTcyR48Y8DC2"
   },
   "source": [
    "1. Apakah perbedaan musim mempunyai pengaruh terhadap jumlah penyewaan sepeda?\n",
    "   \n",
    "**Kesimpulan:** Perbedaan musim memberikan pengaruh terhadap jumlah penyewaan sepeda. Jumlah rata-rata penyewaan sepeda tertinggi pada musim gugur, sementara jumlah rata-rata paling rendah pada musim semi. Ini menunjukkan bahwa permintaan untuk penyewaan sepeda meningkat pada musim yang sejuk namun nyaman, seperti musim gugur.\n",
    "\n",
    "2. Bagaimanakah pengaruh dari Cuaca terhadap tren jumlah penyewaan sepeda?\n",
    "\n",
    "**Kesimpulan:** Cuaca dengan kategori Cerah dan Berkabut mempunyai tingkat tertinggi dalam penyewaan sepeda, sedangkan penyewaan menurun signifikan saat hujan ringan dan mencapai titik terendah pada cuaca hujan lebat atau ekstrem.\n",
    "\n",
    "**Saran:** \n",
    "- Menambah jumlah sepeda menjelang musim gugur, guna meningkatkan kapasitas penyewaan pada musim tersebut (jumlah penyewaan tertinggi). \n",
    "- Meningkatkan pemasaran dan operasional penyewaan sepeda pada hari yang bercuaca cerah atau berkabut. Sedangkan pada hari bercuaca hujan ringan, berikan promo guna menarik keinginan pelanggan. Pada cuaca ekstrim, sebaiknya mempertimbangkan pengurangan kegiatan operasional sebagai guna menjaga efisiensi biaya.\n"
   ]
  },
  {
   "cell_type": "code",
   "execution_count": 50,
   "metadata": {},
   "outputs": [],
   "source": [
    "cleaned_bike_df.to_csv(\"main_data.csv\", index=False)"
   ]
  }
 ],
 "metadata": {
  "colab": {
   "provenance": []
  },
  "kernelspec": {
   "display_name": "Python 3 (ipykernel)",
   "language": "python",
   "name": "python3"
  },
  "language_info": {
   "codemirror_mode": {
    "name": "ipython",
    "version": 3
   },
   "file_extension": ".py",
   "mimetype": "text/x-python",
   "name": "python",
   "nbconvert_exporter": "python",
   "pygments_lexer": "ipython3",
   "version": "3.12.4"
  },
  "vscode": {
   "interpreter": {
    "hash": "972b3bf27e332e87b5379f2791f6ef9dfc79c71018c370b0d7423235e20fe4d7"
   }
  }
 },
 "nbformat": 4,
 "nbformat_minor": 4
}
